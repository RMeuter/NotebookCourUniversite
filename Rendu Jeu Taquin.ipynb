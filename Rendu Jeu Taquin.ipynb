{
 "cells": [
  {
   "cell_type": "markdown",
   "metadata": {},
   "source": [
    "#  Jeu de Taquin (Sliding puzzle)"
   ]
  },
  {
   "cell_type": "code",
   "execution_count": 1,
   "metadata": {},
   "outputs": [],
   "source": [
    "import numpy as np"
   ]
  },
  {
   "cell_type": "markdown",
   "metadata": {},
   "source": [
    "## Algorithme de solvabilité du Taquin"
   ]
  },
  {
   "cell_type": "markdown",
   "metadata": {},
   "source": [
    "```Python\n",
    "    Algorithme GrilleTaquinSolvable\n",
    "    \"\"\"\n",
    "    Argument :\n",
    "    - grille : Une liste d'entier naturel de taille tailleCarre**2 (Ce n'est pas une liste de liste)\n",
    "    - tailleCarre : un entier naturel supérieur à 2\n",
    "    Le programme etudit la présence de l'invariant afin de determiner si le jeu possède un coefficient de dérangement\n",
    "    pair ou impaire. Le coefficient est calculé en ajoutant 1 au coefficient pour chaque combinaison qui \n",
    "    s'effectue dans l'ordre exemple : Si 1 est avant 2 dans la liste alors le coefficient augmente de 1\n",
    "    Cette fonction qui retourne un boolean True si la grille de taquin est solvable, sinon False.\n",
    "    \"\"\"\n",
    "    \n",
    "    Initialisation TableauCombinaison;\n",
    "    Initialisation CoefficientDerangement;\n",
    "    Pour tout nombre i compris entre 1 et tailleCarre^2 faire:\n",
    "        Pour tout nombre j compris entre i+1 et tailleCarre^2 faire:\n",
    "            TableauIntermediaire := [i,j]\n",
    "            Si TableauIntermediaire n est pas contenu dans TableauCombinaison faire:\n",
    "                Ajouter TableauIntermediaire à TableauCombinaison\n",
    "            Fin si\n",
    "        Fin pour tout\n",
    "    Fin pour tout\n",
    "    CoefficientDerangement:= 0;\n",
    "    Initialisation indexSuperieur et indexInferieur; \n",
    "    Pour tout TableauIntermediaire contenu dans TableauCombinaison faire:\n",
    "        indexSuperieur:= 0 \n",
    "        indexInferieur:= 0\n",
    "        Pour tout element k de la liste grille faire:\n",
    "            Si l element au rang 0 du TableauIntermediaire est égale à k alors\n",
    "                indexInferieur:= k\n",
    "            Fin si\n",
    "            Si l element au rang 1 du TableauIntermediaire est égale à k alors\n",
    "                indexInferieur:= k\n",
    "            Fin si\n",
    "        Fin Pour tout;\n",
    "        Si indexInferieur est inférieur à indexInferieur alors\n",
    "            Ajoutez 1 à CoefficientDerangement \n",
    "        Fin Si\n",
    "    Fin pour tout\n",
    "    Si CoefficientDerangement est pair alors\n",
    "        Retourner Vrai\n",
    "    Sinon\n",
    "        Retourner Faux\n",
    "    Fin si\n",
    "    \n",
    "```"
   ]
  },
  {
   "cell_type": "code",
   "execution_count": 64,
   "metadata": {},
   "outputs": [],
   "source": [
    "def GrilleTaquinSolvable(grille, tailleCarre):\n",
    "    \"\"\"\n",
    "     Argument :\n",
    "    - grille : Une liste d'entier naturel de taille tailleCarre**2 (Ce n'est pas une liste de liste)\n",
    "    - tailleCarre : un entier naturel supérieur à 2\n",
    "    Le programme etudit la présence de l'invariant afin de determiner si le jeu possède un coefficient de dérangement\n",
    "    pair ou impaire. Le coefficient est calculé en ajoutant 1 au coefficient pour chaque combinaison qui \n",
    "    s'effectue dans l'ordre exemple : Si 1 est avant 2 dans la liste alors le coefficient augmente de 1\n",
    "    Cette fonction qui retourne un boolean True si la grille de taquin est solvable, sinon False.\n",
    "    \"\"\"\n",
    "    if type(grille[0]) == list:\n",
    "        entendu = [item for sub in grille for item in sub]\n",
    "    else:\n",
    "        entendu = grille\n",
    "    listCombinaison = []\n",
    "    for i in range(1, tailleCarre**2):\n",
    "        for j in range(i+1, tailleCarre**2):\n",
    "            if not [i, j] in listCombinaison:\n",
    "                listCombinaison.append([i, j])\n",
    "    coefDerangement = 0\n",
    "    for combi in listCombinaison:\n",
    "        if entendu.index(combi[0]) < entendu.index(combi[1]):\n",
    "            coefDerangement +=1\n",
    "    if coefDerangement % 2 != 0:\n",
    "        return True\n",
    "    else:\n",
    "        return False"
   ]
  },
  {
   "cell_type": "markdown",
   "metadata": {},
   "source": [
    "### Grille 2x2"
   ]
  },
  {
   "cell_type": "code",
   "execution_count": 58,
   "metadata": {},
   "outputs": [
    {
     "name": "stdout",
     "output_type": "stream",
     "text": [
      "Grille : \n",
      "\n",
      " [[0 2]\n",
      " [3 1]]\n",
      "\n",
      "Cette grille de Taquin est solvable ?  True\n",
      "\n",
      "Grille : \n",
      "\n",
      " [[1 3]\n",
      " [2 0]]\n",
      "\n",
      "Cette grille de Taquin est solvable ?  False\n"
     ]
    }
   ],
   "source": [
    "# Exemple de grille solvable\n",
    "tailleCarre = 2\n",
    "grille = [0, 2, 3, 1]\n",
    "print(\"Grille : \\n\\n\",np.array(grille).reshape((tailleCarre, tailleCarre)))\n",
    "print(\"\\nCette grille de Taquin est solvable ? \",GrilleTaquinSolvable(grille, tailleCarre))\n",
    "\n",
    "# Exemple de grille non solvable\n",
    "grille = [1, 3, 2, 0]\n",
    "print(\"\\nGrille : \\n\\n\",np.array(grille).reshape((tailleCarre, tailleCarre)))\n",
    "print(\"\\nCette grille de Taquin est solvable ? \",GrilleTaquinSolvable(grille, tailleCarre))"
   ]
  },
  {
   "cell_type": "markdown",
   "metadata": {},
   "source": [
    "### Grille 3x3"
   ]
  },
  {
   "cell_type": "code",
   "execution_count": 48,
   "metadata": {},
   "outputs": [
    {
     "name": "stdout",
     "output_type": "stream",
     "text": [
      "Grille : \n",
      "\n",
      " [[0 1 2]\n",
      " [3 4 5]\n",
      " [8 6 7]]\n",
      "\n",
      "Cette grille de Taquin est solvable ?  False\n",
      "\n",
      "Grille : \n",
      "\n",
      " [[0 1 2]\n",
      " [3 4 5]\n",
      " [6 8 7]]\n",
      "\n",
      "Cette grille de Taquin est solvable ?  True\n"
     ]
    }
   ],
   "source": [
    "# Exemple de grille solvable\n",
    "print(\"Grille : \\n\\n\",np.array([0, 1, 2, 3, 4, 5, 8, 6, 7]).reshape((3, 3)))\n",
    "print(\"\\nCette grille de Taquin est solvable ? \",GrilleTaquinSolvable([0, 1, 2, 3, 4, 5, 6, 7, 8], 3))\n",
    "\n",
    "# Exemple de grille non solvable\n",
    "print(\"\\nGrille : \\n\\n\",np.array([0, 1, 2, 3, 4, 5, 6, 8, 7]).reshape((3, 3)))\n",
    "print(\"\\nCette grille de Taquin est solvable ? \",GrilleTaquinSolvable([0, 1, 2, 3, 4, 5, 6, 8, 7], 3))"
   ]
  },
  {
   "cell_type": "markdown",
   "metadata": {},
   "source": [
    "### Grille 4x4"
   ]
  },
  {
   "cell_type": "code",
   "execution_count": 49,
   "metadata": {},
   "outputs": [
    {
     "name": "stdout",
     "output_type": "stream",
     "text": [
      "Grille : \n",
      "\n",
      " [[ 0  1  2  3]\n",
      " [ 4  5  6  7]\n",
      " [ 8  9 10 11]\n",
      " [12 13 14 15]]\n",
      "\n",
      "Cette grille de Taquin est solvable ?  True\n",
      "\n",
      "Grille : \n",
      "\n",
      " [[ 0  1  2  3]\n",
      " [ 4  5  6  7]\n",
      " [ 8  9 10 11]\n",
      " [12 13 15 14]]\n",
      "\n",
      "Cette grille de Taquin est solvable ?  False\n"
     ]
    }
   ],
   "source": [
    "# Exemple de grille solvable\n",
    "print(\"Grille : \\n\\n\",np.array([0, 1, 2, 3, 4, 5, 6, 7, 8, 9, 10, 11, 12, 13, 14, 15]).reshape((4, 4)))\n",
    "print(\"\\nCette grille de Taquin est solvable ? \",GrilleTaquinSolvable([0, 1, 2, 3, 4, 5, 6, 7, 8, 9, 10, 11, 12, 13, 14, 15], 4))\n",
    "\n",
    "# Exemple de grille non solvable\n",
    "print(\"\\nGrille : \\n\\n\",np.array([0, 1, 2, 3, 4, 5, 6, 7, 8, 9, 10, 11, 12, 13, 15, 14]).reshape((4, 4)))\n",
    "print(\"\\nCette grille de Taquin est solvable ? \",GrilleTaquinSolvable([0, 1, 2, 3, 4, 5, 6, 7, 8, 9, 10, 11, 12, 13, 15, 14], 4))"
   ]
  },
  {
   "cell_type": "markdown",
   "metadata": {},
   "source": [
    "## Parti résolution du jeu"
   ]
  },
  {
   "cell_type": "markdown",
   "metadata": {},
   "source": [
    "### Mis en forme du jeu"
   ]
  },
  {
   "cell_type": "code",
   "execution_count": 63,
   "metadata": {},
   "outputs": [],
   "source": [
    "def taquin(grille, tailleCarre, choix):\n",
    "    \n",
    "    def rules(position, grille, tailleCarre, position0) :\n",
    "        if position//tailleCarre != position0//tailleCarre and position%tailleCarre != position0%tailleCarre :\n",
    "            return -5\n",
    "        elif (position<0) or (position>=tailleCarre**2) or (position//tailleCarre < 0) or (position//tailleCarre > tailleCarre):\n",
    "            return -5\n",
    "        else:\n",
    "            base = np.copy(grille)\n",
    "            temp = grille[position]\n",
    "            grille[position0] = temp\n",
    "            grille[position] = 0\n",
    "            position0 = position\n",
    "            return -1\n",
    "\n",
    "    position0 = np.where(grille==0)[0][0]\n",
    "    temp = 0\n",
    "    if choix == 0 :\n",
    "        temp = position0 + 1\n",
    "    elif choix == 1:\n",
    "        temp = position0 - 1\n",
    "    elif choix == 2:\n",
    "        temp = position0 + tailleCarre\n",
    "    elif choix == 3:\n",
    "        temp = position0 - tailleCarre\n",
    "    r = rules(temp, grille, tailleCarre, position0)\n",
    "    return grille, r   \n"
   ]
  },
  {
   "cell_type": "markdown",
   "metadata": {},
   "source": [
    "### Définition de chaque noeud"
   ]
  },
  {
   "cell_type": "code",
   "execution_count": 18,
   "metadata": {},
   "outputs": [],
   "source": [
    "class Edge:\n",
    "    def __init__(self, state, cout, h, parent):\n",
    "        self.h = h\n",
    "        self.cout = cout\n",
    "        self.state = \"\".join(map(str,state))\n",
    "        self.parent = parent\n",
    "    \n",
    "    def getStateArray(self):\n",
    "        return np.array([int(c) for c in self.state])\n",
    "    \n",
    "    def __lt__(self, OtherNode):\n",
    "        return  self.h < OtherNode.h\n",
    "    \n",
    "    def __eq__(self, OtherNode):\n",
    "        return self.state == OtherNode.state\n",
    "    \n",
    "    def show(self, tailleCarre):\n",
    "        return (self.getStateArray()).reshape((tailleCarre, tailleCarre)) \n",
    "    \n",
    "    def __str__(self):\n",
    "            return self.state\n"
   ]
  },
  {
   "cell_type": "markdown",
   "metadata": {},
   "source": [
    "### Fonction utile à l'algorithme A*"
   ]
  },
  {
   "cell_type": "code",
   "execution_count": 38,
   "metadata": {},
   "outputs": [],
   "source": [
    "def manhattanDistance(g, tailleCarre):\n",
    "    \"\"\"\n",
    "    La fonction de distance manhattan prend deux arguments :\n",
    "    - tailleCarre est la taille de Grille (4 si grille 4x4)\n",
    "    - Une grille de taquin dont la dimension est tailleCarre au carre\n",
    "    Cette fonction verifie en premier lieu s'il y a des elements dans le mauvais ordre\n",
    "    Puis s'il y en a, elle créer une liste de booléen permettant de connaitre par leur index\n",
    "    les mauvais placements des tuilles du jeu\n",
    "    Par la connaissances du mauvais placement, nous pouvons calculer la distance mannahtan de toutes les\n",
    "    tuilles mal placées grace au calcul suivant :\n",
    "        |i % tailleCarre - (Position de i) % tailleCarre| + | i // tailleCarre-(Position de i) // tailleCarre |\n",
    "    et retourner leur somme.\n",
    "    \"\"\" \n",
    "    base = [False if i == j else True for (i, j) in zip(g, range(tailleCarre**2))]\n",
    "    return sum(abs(i%tailleCarre-(g[i]-1)%tailleCarre) + abs(i//tailleCarre-(g[i]-1)//tailleCarre) for i, val in enumerate(base) if val) \n",
    "\n",
    "def isNotExistClosed(grille, take):\n",
    "    for i in take:\n",
    "        if i==grille:\n",
    "            return False\n",
    "    return True\n",
    "\n",
    "def isNotExistOpen(grille, take):\n",
    "    for i, e in enumerate(take):\n",
    "        if e==grille:\n",
    "            if grille<e:\n",
    "                return i\n",
    "            return -2\n",
    "    return -1"
   ]
  },
  {
   "cell_type": "markdown",
   "metadata": {},
   "source": [
    "### Algorithme A*"
   ]
  },
  {
   "cell_type": "markdown",
   "metadata": {},
   "source": [
    "```Python\n",
    "    \n",
    "   Algorithme A*\n",
    "    \"\"\"\n",
    "    Argument :\n",
    "    - grille : Une liste d'entier naturel de taille tailleCarre**2 (Ce n'est pas une liste de liste)\n",
    "    - tailleCarre : un entier naturel supérieur strictement à 1\n",
    "    Ne retourne rien\n",
    "    Cet algorithme suit l'algorithme A*. C'est une recherche au travers d'un arbre de possibilité en utilisant l'heuristique manhattan qui favorise le suivi des branches pouvant mener une résolution plus rapide du jeu.\n",
    "    Les listes Open, closed contiennent des objets :\n",
    "        - Un noeud contient une grille, sa distance manhattan ainsi que la position du parent dans closed\n",
    "    \"\"\"\n",
    "    Initialisation Open, closed, deux liste contenant les Noeuds\n",
    "    Ajouter grille, sa distance Manhatan à Open \n",
    "    Tant que Open n est pas vide faire:\n",
    "        x := grille ayant la plus petite distance manhatan \n",
    "        Retirer x de Open \n",
    "        Ajouter x à Closed\n",
    "        Si la grille de x est égale à la grille final alors\n",
    "            Reconstruction du chemin de grille à x\n",
    "        Fin si\n",
    "        Pour toutes les grilles y obtenu par les action possible de x faire:\n",
    "            Si y n appartient pas à closed et que l action de x est possible faire:\n",
    "                Si y appartient à Open et que sa distance manhantan est plus petit que l élément contenu dans Open ou y n appartient pas à Open faire\n",
    "                    Ajoutez y à Open\n",
    "                Fin si\n",
    "            Fin si\n",
    "        Fin pour tout\n",
    "    Fin Tant que\n",
    "    Fin Algorithme\n",
    "        \n",
    "```"
   ]
  },
  {
   "cell_type": "code",
   "execution_count": 62,
   "metadata": {},
   "outputs": [],
   "source": [
    "def A_star(grille, tailleCarre):\n",
    "    \"\"\"\n",
    "    Argument :\n",
    "    - grille : Une liste d'entier naturel de taille tailleCarre**2 (Ce n'est pas une liste de liste)\n",
    "    - tailleCarre : un entier naturel supérieur strictement à 1\n",
    "    Ne retourne rien\n",
    "    Cet algorithme suit l'algorithme A*. C'est une recherche au travers d'un arbre de possibilité en utilisant l'heuristique manhattan qui favorise le suivi des branches pouvant mener une résolution plus rapide du jeu.\n",
    "    Les listes Open, closed contiennent des objets :\n",
    "        - Un noeud contient une grille, sa distance manhattan ainsi que la position du parent dans closed\n",
    "    \"\"\"\n",
    "    assert tailleCarre < 4 and tailleCarre > 1, \"La tailleCarre du taquin est soit de 2 ou 3\"\n",
    "    assert tailleCarre**2 == len(grille), \"La grille n'a pas la taille dite par tailleCarre\"\n",
    "    print(\"Base :\\n\",grille.reshape((tailleCarre, tailleCarre)))\n",
    "    print(\"\\nBut :\\n\",np.arange(tailleCarre**2).reshape((tailleCarre, tailleCarre)))\n",
    "    Open = [Edge(grille, 0, manhattanDistance(grille, tailleCarre), None)]\n",
    "    closed = []\n",
    "    show = 0\n",
    "    solvable = False\n",
    "    print(\"\\nLancement de l'algorithme... \\n\")\n",
    "    while Open:\n",
    "        indice = 0\n",
    "        for i in range(1, len(Open)):\n",
    "            if  Open[i] < Open[indice]:\n",
    "                    indice = i\n",
    "        x = Open[indice]\n",
    "        closed.append(x)\n",
    "        Open.pop(indice)\n",
    "        if x.state == \"\".join(map(str,list(range(tailleCarre**2)))):\n",
    "            solvable = True\n",
    "            i = len(closed)-1\n",
    "            s = []\n",
    "            j = 0\n",
    "            while i != None:\n",
    "                s.append(str(closed[i].show(tailleCarre)))\n",
    "                i = closed[i].parent\n",
    "                j += 1\n",
    "            s = s[::-1]\n",
    "            print(\"\\nNombre de cout nécéssaire : \", j, \"\\n\")\n",
    "            for i in range(len(s)-1):\n",
    "                print(s[i]+ \"-->\\n\")\n",
    "            print(s[len(s)-1])\n",
    "            break \n",
    "        for choix in range(4):\n",
    "            grilleChoix, stop = taquin(x.getStateArray(), tailleCarre, choix)\n",
    "            m = manhattanDistance(grilleChoix, tailleCarre)\n",
    "            e = Edge(grilleChoix, x.cout + 1, m, len(closed)-1)\n",
    "            if not stop == -5 and isNotExistClosed(e,  closed) :\n",
    "                i = isNotExistOpen(e,  Open)\n",
    "                if i >= 0:\n",
    "                    Open[i] = e\n",
    "                elif i ==-1:\n",
    "                    Open.append(e)\n",
    "        show += 1\n",
    "    if not solvable :\n",
    "        print(\"\\n Le problème est non slovable, toutes les combinaisons ont été essayer..\")"
   ]
  },
  {
   "cell_type": "markdown",
   "metadata": {},
   "source": [
    "### Grille de commencement"
   ]
  },
  {
   "cell_type": "code",
   "execution_count": 42,
   "metadata": {},
   "outputs": [],
   "source": [
    "\"\"\"\n",
    "    Grille générer aléatoirement de taille 2x2 \n",
    "\"\"\"\n",
    "tailleCarre = 2\n",
    "grille = np.arange(tailleCarre**2)\n",
    "np.random.shuffle(grille)"
   ]
  },
  {
   "cell_type": "code",
   "execution_count": 156,
   "metadata": {},
   "outputs": [],
   "source": [
    "\"\"\"\n",
    "    Grille générer aléatoirement de taille 3x3 \n",
    "\"\"\"\n",
    "tailleCarre = 3\n",
    "grille = np.arange(tailleCarre**2)\n",
    "np.random.shuffle(grille)"
   ]
  },
  {
   "cell_type": "code",
   "execution_count": 157,
   "metadata": {},
   "outputs": [],
   "source": [
    "\"\"\"\n",
    "    Grille solvable en 3 x 3 \n",
    "\"\"\"\n",
    "grille = np.array([3, 0, 8, 6, 2, 1, 5, 4, 7])\n",
    "tailleCarre = 3"
   ]
  },
  {
   "cell_type": "code",
   "execution_count": 59,
   "metadata": {},
   "outputs": [],
   "source": [
    "\"\"\"\n",
    "    Grille solvable en 3 x 3 \n",
    "\"\"\"\n",
    "grille = np.array([0, 2, 3, 1])\n",
    "tailleCarre = 2"
   ]
  },
  {
   "cell_type": "markdown",
   "metadata": {},
   "source": [
    "### Lancement du jeu"
   ]
  },
  {
   "cell_type": "code",
   "execution_count": 61,
   "metadata": {},
   "outputs": [
    {
     "name": "stdout",
     "output_type": "stream",
     "text": [
      "La grille est solvable ? : True\n",
      "Base :\n",
      " [[0 2]\n",
      " [3 1]]\n",
      "\n",
      "But :\n",
      " [[0 1]\n",
      " [2 3]]\n",
      "\n",
      "Lancement de l'algorithme... \n",
      "\n",
      "Grille Solvable\n",
      "\n",
      "Nombre de cout nécéssaire :  5 \n",
      "\n",
      "[[0 2]\n",
      " [3 1]]-->\n",
      "\n",
      "[[2 0]\n",
      " [3 1]]-->\n",
      "\n",
      "[[2 1]\n",
      " [3 0]]-->\n",
      "\n",
      "[[2 1]\n",
      " [0 3]]-->\n",
      "\n",
      "[[0 1]\n",
      " [2 3]]\n"
     ]
    }
   ],
   "source": [
    "estSolvable = GrilleTaquinSolvable(grille.tolist(), tailleCarre)\n",
    "print(\"La grille est solvable ? :\",GrilleTaquinSolvable(grille.tolist(), tailleCarre))\n",
    "if estSolvable :\n",
    "    A_star(grille, tailleCarre)"
   ]
  }
 ],
 "metadata": {
  "kernelspec": {
   "display_name": "Python 3",
   "language": "python",
   "name": "python3"
  },
  "language_info": {
   "codemirror_mode": {
    "name": "ipython",
    "version": 3
   },
   "file_extension": ".py",
   "mimetype": "text/x-python",
   "name": "python",
   "nbconvert_exporter": "python",
   "pygments_lexer": "ipython3",
   "version": "3.7.4"
  }
 },
 "nbformat": 4,
 "nbformat_minor": 2
}
